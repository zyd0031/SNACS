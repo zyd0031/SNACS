{
 "cells": [
  {
   "cell_type": "code",
   "execution_count": 2,
   "id": "0a06bf35",
   "metadata": {},
   "outputs": [
    {
     "data": {
      "text/html": [
       "\n",
       "\t\t\t<script type=\"text/javascript\">\n",
       "\t\t\t<!--\n",
       "\t\t\t\t\n",
       "\t\t\t{\n",
       "\t\t\t\tvar element = document.getElementById('NetworKit_script');\n",
       "\t\t\t\tif (element) {\n",
       "\t\t\t\t\telement.parentNode.removeChild(element);\n",
       "\t\t\t\t}\n",
       "\t\t\t\telement = document.createElement('script');\n",
       "\t\t\t\telement.type = 'text/javascript';\n",
       "\t\t\t\telement.innerHTML = 'function NetworKit_pageEmbed(id) { var i, j; var elements; elements = document.getElementById(id).getElementsByClassName(\"Plot\"); for (i=0; i<elements.length; i++) { elements[i].id = id + \"_Plot_\" + i; var data = elements[i].getAttribute(\"data-image\").split(\"|\"); elements[i].removeAttribute(\"data-image\"); var content = \"<div class=\\\\\"Image\\\\\" id=\\\\\"\" + elements[i].id + \"_Image\\\\\" />\"; elements[i].innerHTML = content; elements[i].setAttribute(\"data-image-index\", 0); elements[i].setAttribute(\"data-image-length\", data.length); for (j=0; j<data.length; j++) { elements[i].setAttribute(\"data-image-\" + j, data[j]); } NetworKit_plotUpdate(elements[i]); elements[i].onclick = function (e) { NetworKit_overlayShow((e.target) ? e.target : e.srcElement); } } elements = document.getElementById(id).getElementsByClassName(\"HeatCell\"); for (i=0; i<elements.length; i++) { var data = parseFloat(elements[i].getAttribute(\"data-heat\")); var color = \"#00FF00\"; if (data <= 1 && data > 0) { color = \"hsla(0, 100%, 75%, \" + (data) + \")\"; } else if (data <= 0 && data >= -1) { color = \"hsla(240, 100%, 75%, \" + (-data) + \")\"; } elements[i].style.backgroundColor = color; } elements = document.getElementById(id).getElementsByClassName(\"Details\"); for (i=0; i<elements.length; i++) { elements[i].setAttribute(\"data-title\", \"-\"); NetworKit_toggleDetails(elements[i]); elements[i].onclick = function (e) { NetworKit_toggleDetails((e.target) ? e.target : e.srcElement); } } elements = document.getElementById(id).getElementsByClassName(\"MathValue\"); for (i=elements.length-1; i>=0; i--) { value = elements[i].innerHTML.trim(); if (value === \"nan\") { elements[i].parentNode.innerHTML = \"\" } } elements = document.getElementById(id).getElementsByClassName(\"SubCategory\"); for (i=elements.length-1; i>=0; i--) { value = elements[i].innerHTML.trim(); if (value === \"\") { elements[i].parentNode.removeChild(elements[i]) } } elements = document.getElementById(id).getElementsByClassName(\"Category\"); for (i=elements.length-1; i>=0; i--) { value = elements[i].innerHTML.trim(); if (value === \"\") { elements[i].parentNode.removeChild(elements[i]) } } var isFirefox = false; try { isFirefox = typeof InstallTrigger !== \"undefined\"; } catch (e) {} if (!isFirefox) { alert(\"Currently the function\\'s output is only fully supported by Firefox.\"); } } function NetworKit_plotUpdate(source) { var index = source.getAttribute(\"data-image-index\"); var data = source.getAttribute(\"data-image-\" + index); var image = document.getElementById(source.id + \"_Image\"); image.style.backgroundImage = \"url(\" + data + \")\"; } function NetworKit_showElement(id, show) { var element = document.getElementById(id); element.style.display = (show) ? \"block\" : \"none\"; } function NetworKit_overlayShow(source) { NetworKit_overlayUpdate(source); NetworKit_showElement(\"NetworKit_Overlay\", true); } function NetworKit_overlayUpdate(source) { document.getElementById(\"NetworKit_Overlay_Title\").innerHTML = source.title; var index = source.getAttribute(\"data-image-index\"); var data = source.getAttribute(\"data-image-\" + index); var image = document.getElementById(\"NetworKit_Overlay_Image\"); image.setAttribute(\"data-id\", source.id); image.style.backgroundImage = \"url(\" + data + \")\"; var link = document.getElementById(\"NetworKit_Overlay_Toolbar_Bottom_Save\"); link.href = data; link.download = source.title + \".svg\"; } function NetworKit_overlayImageShift(delta) { var image = document.getElementById(\"NetworKit_Overlay_Image\"); var source = document.getElementById(image.getAttribute(\"data-id\")); var index = parseInt(source.getAttribute(\"data-image-index\")); var length = parseInt(source.getAttribute(\"data-image-length\")); var index = (index+delta) % length; if (index < 0) { index = length + index; } source.setAttribute(\"data-image-index\", index); NetworKit_overlayUpdate(source); } function NetworKit_toggleDetails(source) { var childs = source.children; var show = false; if (source.getAttribute(\"data-title\") == \"-\") { source.setAttribute(\"data-title\", \"+\"); show = false; } else { source.setAttribute(\"data-title\", \"-\"); show = true; } for (i=0; i<childs.length; i++) { if (show) { childs[i].style.display = \"block\"; } else { childs[i].style.display = \"none\"; } } }';\n",
       "\t\t\t\telement.setAttribute('id', 'NetworKit_script');\n",
       "\t\t\t\tdocument.head.appendChild(element);\n",
       "\t\t\t}\n",
       "\t\t\n",
       "\t\t\t\t\n",
       "\t\t\t{\n",
       "\t\t\t\tvar element = document.getElementById('NetworKit_style');\n",
       "\t\t\t\tif (element) {\n",
       "\t\t\t\t\telement.parentNode.removeChild(element);\n",
       "\t\t\t\t}\n",
       "\t\t\t\telement = document.createElement('style');\n",
       "\t\t\t\telement.type = 'text/css';\n",
       "\t\t\t\telement.innerHTML = '.NetworKit_Page { font-family: Arial, Helvetica, sans-serif; font-size: 14px; } .NetworKit_Page .Value:before { font-family: Arial, Helvetica, sans-serif; font-size: 1.05em; content: attr(data-title) \":\"; margin-left: -2.5em; padding-right: 0.5em; } .NetworKit_Page .Details .Value:before { display: block; } .NetworKit_Page .Value { font-family: monospace; white-space: pre; padding-left: 2.5em; white-space: -moz-pre-wrap !important; white-space: -pre-wrap; white-space: -o-pre-wrap; white-space: pre-wrap; word-wrap: break-word; tab-size: 4; -moz-tab-size: 4; } .NetworKit_Page .Category { clear: both; padding-left: 1em; margin-bottom: 1.5em; } .NetworKit_Page .Category:before { content: attr(data-title); font-size: 1.75em; display: block; margin-left: -0.8em; margin-bottom: 0.5em; } .NetworKit_Page .SubCategory { margin-bottom: 1.5em; padding-left: 1em; } .NetworKit_Page .SubCategory:before { font-size: 1.6em; display: block; margin-left: -0.8em; margin-bottom: 0.5em; } .NetworKit_Page .SubCategory[data-title]:before { content: attr(data-title); } .NetworKit_Page .Block { display: block; } .NetworKit_Page .Block:after { content: \".\"; visibility: hidden; display: block; height: 0; clear: both; } .NetworKit_Page .Block .Thumbnail_Overview, .NetworKit_Page .Block .Thumbnail_ScatterPlot { width: 260px; float: left; } .NetworKit_Page .Block .Thumbnail_Overview img, .NetworKit_Page .Block .Thumbnail_ScatterPlot img { width: 260px; } .NetworKit_Page .Block .Thumbnail_Overview:before, .NetworKit_Page .Block .Thumbnail_ScatterPlot:before { display: block; text-align: center; font-weight: bold; } .NetworKit_Page .Block .Thumbnail_Overview:before { content: attr(data-title); } .NetworKit_Page .HeatCell { font-family: \"Courier New\", Courier, monospace; cursor: pointer; } .NetworKit_Page .HeatCell, .NetworKit_Page .HeatCellName { display: inline; padding: 0.1em; margin-right: 2px; background-color: #FFFFFF } .NetworKit_Page .HeatCellName { margin-left: 0.25em; } .NetworKit_Page .HeatCell:before { content: attr(data-heat); display: inline-block; color: #000000; width: 4em; text-align: center; } .NetworKit_Page .Measure { clear: both; } .NetworKit_Page .Measure .Details { cursor: pointer; } .NetworKit_Page .Measure .Details:before { content: \"[\" attr(data-title) \"]\"; display: block; } .NetworKit_Page .Measure .Details .Value { border-left: 1px dotted black; margin-left: 0.4em; padding-left: 3.5em; pointer-events: none; } .NetworKit_Page .Measure .Details .Spacer:before { content: \".\"; opacity: 0.0; pointer-events: none; } .NetworKit_Page .Measure .Plot { width: 440px; height: 440px; cursor: pointer; float: left; margin-left: -0.9em; margin-right: 20px; } .NetworKit_Page .Measure .Plot .Image { background-repeat: no-repeat; background-position: center center; background-size: contain; height: 100%; pointer-events: none; } .NetworKit_Page .Measure .Stat { width: 500px; float: left; } .NetworKit_Page .Measure .Stat .Group { padding-left: 1.25em; margin-bottom: 0.75em; } .NetworKit_Page .Measure .Stat .Group .Title { font-size: 1.1em; display: block; margin-bottom: 0.3em; margin-left: -0.75em; border-right-style: dotted; border-right-width: 1px; border-bottom-style: dotted; border-bottom-width: 1px; background-color: #D0D0D0; padding-left: 0.2em; } .NetworKit_Page .Measure .Stat .Group .List { -webkit-column-count: 3; -moz-column-count: 3; column-count: 3; } .NetworKit_Page .Measure .Stat .Group .List .Entry { position: relative; line-height: 1.75em; } .NetworKit_Page .Measure .Stat .Group .List .Entry[data-tooltip]:before { position: absolute; left: 0; top: -40px; background-color: #808080; color: #ffffff; height: 30px; line-height: 30px; border-radius: 5px; padding: 0 15px; content: attr(data-tooltip); white-space: nowrap; display: none; } .NetworKit_Page .Measure .Stat .Group .List .Entry[data-tooltip]:after { position: absolute; left: 15px; top: -10px; border-top: 7px solid #808080; border-left: 7px solid transparent; border-right: 7px solid transparent; content: \"\"; display: none; } .NetworKit_Page .Measure .Stat .Group .List .Entry[data-tooltip]:hover:after, .NetworKit_Page .Measure .Stat .Group .List .Entry[data-tooltip]:hover:before { display: block; } .NetworKit_Page .Measure .Stat .Group .List .Entry .MathValue { font-family: \"Courier New\", Courier, monospace; } .NetworKit_Page .Measure:after { content: \".\"; visibility: hidden; display: block; height: 0; clear: both; } .NetworKit_Page .PartitionPie { clear: both; } .NetworKit_Page .PartitionPie img { width: 600px; } #NetworKit_Overlay { left: 0px; top: 0px; display: none; position: absolute; width: 100%; height: 100%; background-color: rgba(0,0,0,0.6); z-index: 1000; } #NetworKit_Overlay_Title { position: absolute; color: white; transform: rotate(-90deg); width: 32em; height: 32em; padding-right: 0.5em; padding-top: 0.5em; text-align: right; font-size: 40px; } #NetworKit_Overlay .button { background: white; cursor: pointer; } #NetworKit_Overlay .button:before { size: 13px; display: inline-block; text-align: center; margin-top: 0.5em; margin-bottom: 0.5em; width: 1.5em; height: 1.5em; } #NetworKit_Overlay .icon-close:before { content: \"X\"; } #NetworKit_Overlay .icon-previous:before { content: \"P\"; } #NetworKit_Overlay .icon-next:before { content: \"N\"; } #NetworKit_Overlay .icon-save:before { content: \"S\"; } #NetworKit_Overlay_Toolbar_Top, #NetworKit_Overlay_Toolbar_Bottom { position: absolute; width: 40px; right: 13px; text-align: right; z-index: 1100; } #NetworKit_Overlay_Toolbar_Top { top: 0.5em; } #NetworKit_Overlay_Toolbar_Bottom { Bottom: 0.5em; } #NetworKit_Overlay_ImageContainer { position: absolute; top: 5%; left: 5%; height: 90%; width: 90%; background-repeat: no-repeat; background-position: center center; background-size: contain; } #NetworKit_Overlay_Image { height: 100%; width: 100%; background-repeat: no-repeat; background-position: center center; background-size: contain; }';\n",
       "\t\t\t\telement.setAttribute('id', 'NetworKit_style');\n",
       "\t\t\t\tdocument.head.appendChild(element);\n",
       "\t\t\t}\n",
       "\t\t\n",
       "\t\t\t\t\n",
       "\t\t\t{\n",
       "\t\t\t\tvar element = document.getElementById('NetworKit_Overlay');\n",
       "\t\t\t\tif (element) {\n",
       "\t\t\t\t\telement.parentNode.removeChild(element);\n",
       "\t\t\t\t}\n",
       "\t\t\t\telement = document.createElement('div');\n",
       "\t\t\t\telement.innerHTML = '<div id=\"NetworKit_Overlay_Toolbar_Top\"><div class=\"button icon-close\" id=\"NetworKit_Overlay_Close\" /></div><div id=\"NetworKit_Overlay_Title\" /> <div id=\"NetworKit_Overlay_ImageContainer\"> <div id=\"NetworKit_Overlay_Image\" /> </div> <div id=\"NetworKit_Overlay_Toolbar_Bottom\"> <div class=\"button icon-previous\" onclick=\"NetworKit_overlayImageShift(-1)\" /> <div class=\"button icon-next\" onclick=\"NetworKit_overlayImageShift(1)\" /> <a id=\"NetworKit_Overlay_Toolbar_Bottom_Save\"><div class=\"button icon-save\" /></a> </div>';\n",
       "\t\t\t\telement.setAttribute('id', 'NetworKit_Overlay');\n",
       "\t\t\t\tdocument.body.appendChild(element);\n",
       "\t\t\t\tdocument.getElementById('NetworKit_Overlay_Close').onclick = function (e) {\n",
       "\t\t\t\t\tdocument.getElementById('NetworKit_Overlay').style.display = 'none';\n",
       "\t\t\t\t}\n",
       "\t\t\t}\n",
       "\t\t\n",
       "\t\t\t-->\n",
       "\t\t\t</script>\n",
       "\t\t"
      ]
     },
     "metadata": {},
     "output_type": "display_data"
    }
   ],
   "source": [
    "import pandas as pd\n",
    "import numpy as np\n",
    "import networkx as nx\n",
    "import seaborn as sns\n",
    "import matplotlib.pyplot as plt\n",
    "import igraph as ig\n",
    "import warnings\n",
    "import random\n",
    "import networkit as nk\n",
    "warnings.filterwarnings(\"ignore\")"
   ]
  },
  {
   "cell_type": "code",
   "execution_count": 90,
   "id": "eda93ba8",
   "metadata": {},
   "outputs": [],
   "source": [
    "# 3.1"
   ]
  },
  {
   "cell_type": "code",
   "execution_count": 22,
   "id": "778feda8",
   "metadata": {},
   "outputs": [],
   "source": [
    "small = pd.read_csv(\"twitter-small.tsv\", header = None, delimiter='\\t', parse_dates=[0])"
   ]
  },
  {
   "cell_type": "code",
   "execution_count": 23,
   "id": "99fe684a",
   "metadata": {},
   "outputs": [],
   "source": [
    "small.rename(columns = {0:\"Time\", 1:\"user\", 2:\"tweet\"}, inplace = True)"
   ]
  },
  {
   "cell_type": "code",
   "execution_count": 27,
   "id": "068e3111",
   "metadata": {},
   "outputs": [
    {
     "data": {
      "text/plain": [
       "879"
      ]
     },
     "execution_count": 27,
     "metadata": {},
     "output_type": "execute_result"
    }
   ],
   "source": [
    "small.duplicated().sum()"
   ]
  },
  {
   "cell_type": "code",
   "execution_count": 28,
   "id": "386c3253",
   "metadata": {},
   "outputs": [],
   "source": [
    "small.drop_duplicates(inplace = True)"
   ]
  },
  {
   "cell_type": "code",
   "execution_count": 36,
   "id": "9044cf53",
   "metadata": {},
   "outputs": [],
   "source": [
    "import re\n",
    "def get_mentioned(tweet):\n",
    "    mention = re.findall(r'@(\\w+)', tweet)\n",
    "    return list(set(mention))\n",
    "\n",
    "small[\"mention\"] = small[\"tweet\"].apply(get_mentioned)"
   ]
  },
  {
   "cell_type": "code",
   "execution_count": 38,
   "id": "dcfec6af",
   "metadata": {},
   "outputs": [],
   "source": [
    "small_mention = small.groupby('user')['mention'].agg(lambda s:sum(s, [])).reset_index()"
   ]
  },
  {
   "cell_type": "code",
   "execution_count": 53,
   "id": "ce35cb19",
   "metadata": {},
   "outputs": [],
   "source": [
    "small_mention['mention'] = small_mention.apply(lambda x: [mention for mention in x['mention'] if mention != x['user']], axis=1)"
   ]
  },
  {
   "cell_type": "code",
   "execution_count": 56,
   "id": "6dcf1fe4",
   "metadata": {},
   "outputs": [],
   "source": [
    "small_mention = small_mention[small_mention[\"mention\"].apply(len) > 0]"
   ]
  },
  {
   "cell_type": "code",
   "execution_count": 66,
   "id": "40ff19cb",
   "metadata": {},
   "outputs": [],
   "source": [
    "from collections import Counter\n",
    "small_mention[\"adj\"] = small_mention[\"mention\"].apply(lambda s: dict(Counter(s)))"
   ]
  },
  {
   "cell_type": "code",
   "execution_count": 78,
   "id": "f8951bf8",
   "metadata": {},
   "outputs": [],
   "source": [
    "small_mention[[\"user\", \"adj\"]].to_csv(\"adj.csv\", header = False, index = False)"
   ]
  },
  {
   "cell_type": "code",
   "execution_count": 88,
   "id": "6bd152cb",
   "metadata": {},
   "outputs": [],
   "source": [
    "def to_adj(x):\n",
    "    user = x['user']\n",
    "    mention_dict = x['adj']\n",
    "    mentions = [{'Source': user, 'Target': mention, 'Weight': weight} for mention, weight in mention_dict.items()]\n",
    "    \n",
    "    return mentions\n",
    "\n",
    "small_csv = pd.DataFrame(small_mention.apply(to_adj, axis=1).sum())"
   ]
  },
  {
   "cell_type": "code",
   "execution_count": 89,
   "id": "ffa9b8f2",
   "metadata": {},
   "outputs": [],
   "source": [
    "small_csv.to_csv(\"q31.csv\",index = False)"
   ]
  },
  {
   "cell_type": "code",
   "execution_count": 3,
   "id": "17eed6eb",
   "metadata": {},
   "outputs": [],
   "source": [
    "# 3.2"
   ]
  },
  {
   "cell_type": "code",
   "execution_count": 2,
   "id": "7e9f10c2",
   "metadata": {},
   "outputs": [],
   "source": [
    "G = nx.read_weighted_edgelist('q31.csv', delimiter=',', create_using=nx.DiGraph())"
   ]
  },
  {
   "cell_type": "code",
   "execution_count": 23,
   "id": "6dd06c93",
   "metadata": {},
   "outputs": [],
   "source": [
    "nx.write_gml(G, \"graph.gml\")"
   ]
  },
  {
   "cell_type": "code",
   "execution_count": 4,
   "id": "74a30a7d",
   "metadata": {},
   "outputs": [
    {
     "data": {
      "text/plain": [
       "152880"
      ]
     },
     "execution_count": 4,
     "metadata": {},
     "output_type": "execute_result"
    }
   ],
   "source": [
    "len(G.edges())"
   ]
  },
  {
   "cell_type": "code",
   "execution_count": 5,
   "id": "acb9eab1",
   "metadata": {},
   "outputs": [
    {
     "data": {
      "text/plain": [
       "94967"
      ]
     },
     "execution_count": 5,
     "metadata": {},
     "output_type": "execute_result"
    }
   ],
   "source": [
    "len(G.nodes())"
   ]
  },
  {
   "cell_type": "code",
   "execution_count": 3,
   "id": "caf3ebad",
   "metadata": {},
   "outputs": [
    {
     "data": {
      "text/plain": [
       "3477"
      ]
     },
     "execution_count": 3,
     "metadata": {},
     "output_type": "execute_result"
    }
   ],
   "source": [
    "nx.number_weakly_connected_components(G)"
   ]
  },
  {
   "cell_type": "code",
   "execution_count": 7,
   "id": "73b652fc",
   "metadata": {},
   "outputs": [
    {
     "data": {
      "text/plain": [
       "93219"
      ]
     },
     "execution_count": 7,
     "metadata": {},
     "output_type": "execute_result"
    }
   ],
   "source": [
    "nx.number_strongly_connected_components(G)"
   ]
  },
  {
   "cell_type": "code",
   "execution_count": 3,
   "id": "22e518e0",
   "metadata": {},
   "outputs": [],
   "source": [
    "largest_weakly_nodes = max(nx.weakly_connected_components(G), key=len)\n",
    "largest_weakly_graph = G.subgraph(largest_weakly_nodes.copy())"
   ]
  },
  {
   "cell_type": "code",
   "execution_count": 23,
   "id": "75d3eaf9",
   "metadata": {},
   "outputs": [
    {
     "data": {
      "text/plain": [
       "81791"
      ]
     },
     "execution_count": 23,
     "metadata": {},
     "output_type": "execute_result"
    }
   ],
   "source": [
    "len(largest_weakly_graph.nodes())"
   ]
  },
  {
   "cell_type": "code",
   "execution_count": 24,
   "id": "1150cd96",
   "metadata": {},
   "outputs": [
    {
     "data": {
      "text/plain": [
       "142828"
      ]
     },
     "execution_count": 24,
     "metadata": {},
     "output_type": "execute_result"
    }
   ],
   "source": [
    "len(largest_weakly_graph.edges())"
   ]
  },
  {
   "cell_type": "code",
   "execution_count": 5,
   "id": "b0acaa70",
   "metadata": {},
   "outputs": [],
   "source": [
    "largest_strongly_nodes = max(nx.strongly_connected_components(G), key=len)\n",
    "largest_strongly_graph = G.subgraph(largest_strongly_nodes.copy())"
   ]
  },
  {
   "cell_type": "code",
   "execution_count": 26,
   "id": "0b90744e",
   "metadata": {},
   "outputs": [
    {
     "data": {
      "text/plain": [
       "1386"
      ]
     },
     "execution_count": 26,
     "metadata": {},
     "output_type": "execute_result"
    }
   ],
   "source": [
    "len(largest_strongly_graph.nodes())"
   ]
  },
  {
   "cell_type": "code",
   "execution_count": 27,
   "id": "6c109418",
   "metadata": {},
   "outputs": [
    {
     "data": {
      "text/plain": [
       "5404"
      ]
     },
     "execution_count": 27,
     "metadata": {},
     "output_type": "execute_result"
    }
   ],
   "source": [
    "len(largest_strongly_graph.edges())"
   ]
  },
  {
   "cell_type": "code",
   "execution_count": 9,
   "id": "774e9e61",
   "metadata": {},
   "outputs": [
    {
     "data": {
      "text/plain": [
       "1.6951565395466567e-05"
      ]
     },
     "execution_count": 9,
     "metadata": {},
     "output_type": "execute_result"
    }
   ],
   "source": [
    "nx.density(G)"
   ]
  },
  {
   "cell_type": "code",
   "execution_count": 7,
   "id": "1b61d05a",
   "metadata": {},
   "outputs": [],
   "source": [
    "in_degree = list(dict(G.in_degree(weight = \"weight\")).values())"
   ]
  },
  {
   "cell_type": "code",
   "execution_count": 6,
   "id": "21d83bb6",
   "metadata": {},
   "outputs": [
    {
     "data": {
      "text/plain": [
       "34.308456711392346"
      ]
     },
     "execution_count": 6,
     "metadata": {},
     "output_type": "execute_result"
    }
   ],
   "source": [
    "from scipy.stats import kurtosis, skew\n",
    "\n",
    "skew(in_degree)"
   ]
  },
  {
   "cell_type": "code",
   "execution_count": 7,
   "id": "2a5604d5",
   "metadata": {},
   "outputs": [
    {
     "data": {
      "text/plain": [
       "2306.1132331733634"
      ]
     },
     "execution_count": 7,
     "metadata": {},
     "output_type": "execute_result"
    }
   ],
   "source": [
    "kurtosis(in_degree)"
   ]
  },
  {
   "cell_type": "code",
   "execution_count": 21,
   "id": "22cd3f35",
   "metadata": {},
   "outputs": [
    {
     "data": {
      "text/plain": [
       "Text(0, 0.5, 'Log Frequency')"
      ]
     },
     "execution_count": 21,
     "metadata": {},
     "output_type": "execute_result"
    },
    {
     "data": {
      "image/png": "[encoded data removed]",
      "text/plain": [
       "<Figure size 640x480 with 1 Axes>"
      ]
     },
     "metadata": {},
     "output_type": "display_data"
    }
   ],
   "source": [
    "from collections import Counter, OrderedDict\n",
    "\n",
    "in_degree = Counter(in_degree)\n",
    "sorted_in_degree = OrderedDict(sorted(in_degree.items(), key=lambda x: x[0]))\n",
    "indegree = list(sorted_in_degree.keys())\n",
    "frequencies = list(sorted_in_degree.values())\n",
    "\n",
    "plt.plot(indegree, frequencies)\n",
    "plt.yscale('log') \n",
    "plt.title(\"Indegree Distribution\")\n",
    "plt.xlabel(\"Indegree\")\n",
    "plt.ylabel(\"Log Frequency\")"
   ]
  },
  {
   "cell_type": "code",
   "execution_count": 22,
   "id": "fc5c4f23",
   "metadata": {},
   "outputs": [
    {
     "data": {
      "text/plain": [
       "Text(0, 0.5, 'Log Frequency')"
      ]
     },
     "execution_count": 22,
     "metadata": {},
     "output_type": "execute_result"
    },
    {
     "data": {
      "image/png": "[encoded data removed]",
      "text/plain": [
       "<Figure size 640x480 with 1 Axes>"
      ]
     },
     "metadata": {},
     "output_type": "display_data"
    }
   ],
   "source": [
    "out_degree = list(dict(G.out_degree(weight = \"weight\")).values())\n",
    "out_degree = Counter(out_degree)\n",
    "sorted_out_degree = OrderedDict(sorted(out_degree.items(), key=lambda x: x[0]))\n",
    "outdegree = list(sorted_out_degree.keys())\n",
    "frequencies = list(sorted_out_degree.values())\n",
    "\n",
    "plt.plot(outdegree, frequencies)\n",
    "plt.yscale('log') \n",
    "plt.title(\"Outdegree Distribution\")\n",
    "plt.xlabel(\"Outdegree\")\n",
    "plt.ylabel(\"Log Frequency\")"
   ]
  },
  {
   "cell_type": "code",
   "execution_count": 16,
   "id": "5f160a64",
   "metadata": {},
   "outputs": [
    {
     "data": {
      "text/plain": [
       "28.332870259418744"
      ]
     },
     "execution_count": 16,
     "metadata": {},
     "output_type": "execute_result"
    }
   ],
   "source": [
    "skew(out_degree)"
   ]
  },
  {
   "cell_type": "code",
   "execution_count": 17,
   "id": "3b2f6293",
   "metadata": {},
   "outputs": [
    {
     "data": {
      "text/plain": [
       "1795.711302286719"
      ]
     },
     "execution_count": 17,
     "metadata": {},
     "output_type": "execute_result"
    }
   ],
   "source": [
    "kurtosis(out_degree)"
   ]
  },
  {
   "cell_type": "code",
   "execution_count": 6,
   "id": "27dc91b3",
   "metadata": {},
   "outputs": [
    {
     "data": {
      "text/plain": [
       "0.00023193023718975388"
      ]
     },
     "execution_count": 6,
     "metadata": {},
     "output_type": "execute_result"
    }
   ],
   "source": [
    "nx.average_clustering(G, weight = \"weight\")"
   ]
  },
  {
   "cell_type": "code",
   "execution_count": 27,
   "id": "4d2e2e49",
   "metadata": {},
   "outputs": [],
   "source": [
    "for u, v, data in largest_strongly_graph.edges(data=True):\n",
    "    data['inverse_weight'] = 1.0 / data['weight']\n",
    "\n",
    "distance = []\n",
    "for source, dictionary in nx.all_pairs_shortest_path_length(largest_strongly_graph):\n",
    "    distances = list(dictionary.values())\n",
    "    distances.remove(0)\n",
    "    distance.extend(distances)"
   ]
  },
  {
   "cell_type": "code",
   "execution_count": 28,
   "id": "2d5bac6c",
   "metadata": {},
   "outputs": [
    {
     "data": {
      "text/plain": [
       "5.867868473283636"
      ]
     },
     "execution_count": 28,
     "metadata": {},
     "output_type": "execute_result"
    }
   ],
   "source": [
    "np.mean(distance)"
   ]
  },
  {
   "cell_type": "code",
   "execution_count": 31,
   "id": "2e46c51c",
   "metadata": {},
   "outputs": [
    {
     "data": {
      "image/png": "[encoded data removed]",
      "text/plain": [
       "<Figure size 640x480 with 1 Axes>"
      ]
     },
     "metadata": {},
     "output_type": "display_data"
    }
   ],
   "source": [
    "sns.histplot(distance, binwidth=0.5)\n",
    "plt.title(\"Distance Distribution\")\n",
    "plt.xlabel(\"Distance\")\n",
    "plt.show()"
   ]
  },
  {
   "cell_type": "code",
   "execution_count": 3,
   "id": "ed6e8538",
   "metadata": {},
   "outputs": [],
   "source": [
    "# 3.3"
   ]
  },
  {
   "cell_type": "code",
   "execution_count": 3,
   "id": "9ffb58e4",
   "metadata": {},
   "outputs": [],
   "source": [
    "for u, v, data in G.edges(data=True):\n",
    "    data['inverse_weight'] = 1.0 / data['weight']"
   ]
  },
  {
   "cell_type": "code",
   "execution_count": 4,
   "id": "554d2038",
   "metadata": {},
   "outputs": [],
   "source": [
    "undirected_G = G.to_undirected()"
   ]
  },
  {
   "cell_type": "code",
   "execution_count": 5,
   "id": "769bc109",
   "metadata": {},
   "outputs": [],
   "source": [
    "betweenness_centrality = nx.betweenness_centrality(undirected_G, weight = \"inverse_weight\", k = 999)"
   ]
  },
  {
   "cell_type": "code",
   "execution_count": 8,
   "id": "52c5cb07",
   "metadata": {},
   "outputs": [
    {
     "data": {
      "text/plain": [
       "{'tamaraschilling': 0.22785346359553063,\n",
       " 'starlingpoet': 0.13985681659685295,\n",
       " 'TamaraSchilling': 0.0749170630072168,\n",
       " 'MATT_369': 0.06448149793324554,\n",
       " 'topfollowfriday': 0.0544739735490907,\n",
       " 'centerpet': 0.04208520934636123,\n",
       " 'Bonniestwit': 0.0402128221735005,\n",
       " 'ModelSupplies': 0.03999636130700315,\n",
       " 'teddy_salad': 0.03885082252184085,\n",
       " 'mashable': 0.035104623563422276,\n",
       " 'AmericanWomannn': 0.03424171004980557,\n",
       " 'loveandemulsion': 0.03129250619804801,\n",
       " 'medic_ray': 0.030771146347000008,\n",
       " 'modelsupplies': 0.030233297707193806,\n",
       " 'erenwall': 0.029376650883194837,\n",
       " 'EMarketingGuru': 0.0287478050178086,\n",
       " 'MamaCapps': 0.028289147729462106,\n",
       " 'tmjobrequest': 0.027974813127400414,\n",
       " 'andreapuddu': 0.025376999855299502,\n",
       " 'tap29': 0.023748131999327522}"
      ]
     },
     "execution_count": 8,
     "metadata": {},
     "output_type": "execute_result"
    }
   ],
   "source": [
    "betweenness_20 = dict(sorted(betweenness_centrality.items(), key=lambda item: item[1], reverse=True)[:20])\n",
    "betweenness_20"
   ]
  },
  {
   "cell_type": "code",
   "execution_count": 30,
   "id": "aaa9d902",
   "metadata": {},
   "outputs": [],
   "source": [
    "betweenness_20 = {'tamaraschilling': 0.22785346359553063,\n",
    " 'starlingpoet': 0.13985681659685295,\n",
    " 'TamaraSchilling': 0.0749170630072168,\n",
    " 'MATT_369': 0.06448149793324554,\n",
    " 'topfollowfriday': 0.0544739735490907,\n",
    " 'centerpet': 0.04208520934636123,\n",
    " 'Bonniestwit': 0.0402128221735005,\n",
    " 'ModelSupplies': 0.03999636130700315,\n",
    " 'teddy_salad': 0.03885082252184085,\n",
    " 'mashable': 0.035104623563422276,\n",
    " 'AmericanWomannn': 0.03424171004980557,\n",
    " 'loveandemulsion': 0.03129250619804801,\n",
    " 'medic_ray': 0.030771146347000008,\n",
    " 'modelsupplies': 0.030233297707193806,\n",
    " 'erenwall': 0.029376650883194837,\n",
    " 'EMarketingGuru': 0.0287478050178086,\n",
    " 'MamaCapps': 0.028289147729462106,\n",
    " 'tmjobrequest': 0.027974813127400414,\n",
    " 'andreapuddu': 0.025376999855299502,\n",
    " 'tap29': 0.023748131999327522}"
   ]
  },
  {
   "cell_type": "code",
   "execution_count": 5,
   "id": "e448f4ed",
   "metadata": {},
   "outputs": [],
   "source": [
    "G_nk = nk.nxadapter.nx2nk(undirected_G, weightAttr = \"weight\")"
   ]
  },
  {
   "cell_type": "code",
   "execution_count": 20,
   "id": "9336559e",
   "metadata": {},
   "outputs": [],
   "source": [
    "idmap = dict((id, u) for (id, u) in zip(range(undirected_G.number_of_nodes()), undirected_G.nodes()))"
   ]
  },
  {
   "cell_type": "code",
   "execution_count": 24,
   "id": "6b0698ab",
   "metadata": {},
   "outputs": [
    {
     "data": {
      "text/plain": [
       "<networkit.centrality.ApproxCloseness at 0x19a0b9478b0>"
      ]
     },
     "execution_count": 24,
     "metadata": {},
     "output_type": "execute_result"
    }
   ],
   "source": [
    "ac = nk.centrality.ApproxCloseness(G_nk, 9999)\n",
    "ac.run()"
   ]
  },
  {
   "cell_type": "code",
   "execution_count": 25,
   "id": "73e17963",
   "metadata": {},
   "outputs": [],
   "source": [
    "ids = [i[0] for i in ac.ranking()[:20]]"
   ]
  },
  {
   "cell_type": "code",
   "execution_count": 26,
   "id": "7977784d",
   "metadata": {},
   "outputs": [],
   "source": [
    "closeness_20 = [idmap.get(i) for i in ids]"
   ]
  },
  {
   "cell_type": "code",
   "execution_count": 27,
   "id": "621d1084",
   "metadata": {},
   "outputs": [
    {
     "data": {
      "text/plain": [
       "['dropsy',\n",
       " 'liltanlines',\n",
       " '100gran',\n",
       " '1041stormgirl',\n",
       " '10investigates',\n",
       " '10thamendment',\n",
       " 'nikkipilkington',\n",
       " '140tc',\n",
       " 'wyshynski',\n",
       " 'tommysalami',\n",
       " 'scotteweinberg',\n",
       " 'markolivas',\n",
       " '15th',\n",
       " 'motherlove_',\n",
       " '17thstreetbbq',\n",
       " '1970something',\n",
       " '1980_',\n",
       " 'aliciawag',\n",
       " '1angelinwaiting',\n",
       " '1basil1']"
      ]
     },
     "execution_count": 27,
     "metadata": {},
     "output_type": "execute_result"
    }
   ],
   "source": [
    "closeness_20"
   ]
  },
  {
   "cell_type": "code",
   "execution_count": 29,
   "id": "9654340c",
   "metadata": {},
   "outputs": [
    {
     "data": {
      "text/plain": [
       "{'tamaraschilling': 0.006486532021986817,\n",
       " 'mashable': 0.005233451972284818,\n",
       " 'medic_ray': 0.004127793104900701,\n",
       " 'americandream09': 0.0040119621759366515,\n",
       " 'elocio': 0.003864540993618769,\n",
       " 'erenwall': 0.0038013604869111053,\n",
       " 'bacieabbracci': 0.0034959880378240635,\n",
       " 'drjennifer': 0.003474927868921509,\n",
       " 'lauralassiter': 0.0032222058420908538,\n",
       " 'centerpet': 0.0031590253353831897,\n",
       " 'nachhi': 0.0031484952509319127,\n",
       " 'teddy_salad': 0.0030116041530653076,\n",
       " 'jhillstephens': 0.002801002464039762,\n",
       " 'secularstupid': 0.002801002464039762,\n",
       " 'straightstreet': 0.00276941221068593,\n",
       " 'pcpitcrew': 0.002737821957332098,\n",
       " 'bobgarrett': 0.0026219910283680477,\n",
       " 'kellythomas1': 0.00261146094391677,\n",
       " 'tweetmeme': 0.0023692690015373924,\n",
       " 'carelea': 0.0023692690015373924}"
      ]
     },
     "execution_count": 29,
     "metadata": {},
     "output_type": "execute_result"
    }
   ],
   "source": [
    "degree_centrality = nx.degree_centrality(undirected_G)\n",
    "degree_20 = dict(sorted(degree_centrality.items(), key=lambda item: item[1], reverse=True)[:20])\n",
    "degree_20"
   ]
  },
  {
   "cell_type": "code",
   "execution_count": 37,
   "id": "fe7cbb8a",
   "metadata": {},
   "outputs": [
    {
     "data": {
      "text/plain": [
       "SignificanceResult(statistic=0.9992478374264834, pvalue=7.297503473551486e-27)"
      ]
     },
     "execution_count": 37,
     "metadata": {},
     "output_type": "execute_result"
    }
   ],
   "source": [
    "from scipy.stats import spearmanr\n",
    "\n",
    "corr_bet_degree = spearmanr(list(degree_20.values()), list(betweenness_20.values()))\n",
    "corr_bet_degree"
   ]
  },
  {
   "cell_type": "code",
   "execution_count": 3,
   "id": "2de1b2b9",
   "metadata": {},
   "outputs": [],
   "source": [
    "# 3.4"
   ]
  },
  {
   "cell_type": "code",
   "execution_count": 7,
   "id": "23b00de4",
   "metadata": {},
   "outputs": [
    {
     "name": "stdout",
     "output_type": "stream",
     "text": [
      "resolution = 1, score = 0.48197034936809646\n",
      "resolution = 2, score = 0.4689829256196955\n",
      "resolution = 3, score = 0.4548775551275487\n",
      "resolution = 4, score = 0.43960667901064265\n",
      "resolution = 5, score = 0.43330880259699767\n",
      "resolution = 6, score = 0.4243148871888733\n",
      "resolution = 7, score = 0.42002596190851277\n",
      "resolution = 8, score = 0.4118933932552045\n",
      "resolution = 9, score = 0.4059033626262185\n",
      "resolution = 10, score = 0.40229772235162375\n",
      "resolution = 11, score = 0.39585879246493894\n",
      "resolution = 12, score = 0.3907630357536352\n",
      "resolution = 13, score = 0.38757531537787326\n",
      "resolution = 14, score = 0.38460516934660166\n",
      "resolution = 15, score = 0.3817154629829242\n",
      "resolution = 16, score = 0.3742690778532392\n",
      "resolution = 17, score = 0.37132715179183273\n",
      "resolution = 18, score = 0.36887168977956425\n",
      "resolution = 19, score = 0.3667168620395239\n",
      "resolution = 20, score = 0.3633852824254354\n"
     ]
    }
   ],
   "source": [
    "for i in range(20):\n",
    "    resolution = i + 1\n",
    "    score = nx.community.modularity(largest_strongly_graph, nx.community.greedy_modularity_communities(largest_strongly_graph, weight=\"weight\", resolution=resolution))\n",
    "    print(f\"resolution = {resolution}, score = {score}\")"
   ]
  },
  {
   "cell_type": "code",
   "execution_count": 8,
   "id": "1fa556e2",
   "metadata": {},
   "outputs": [],
   "source": [
    "communities = nx.community.greedy_modularity_communities(largest_strongly_graph, weight=\"weight\", resolution=1, best_n = 10)"
   ]
  },
  {
   "cell_type": "code",
   "execution_count": 9,
   "id": "478eea43",
   "metadata": {},
   "outputs": [
    {
     "data": {
      "text/plain": [
       "[229, 176, 167, 150, 133, 120, 115, 105, 99, 92]"
      ]
     },
     "execution_count": 9,
     "metadata": {},
     "output_type": "execute_result"
    }
   ],
   "source": [
    "sizes = [len(i) for i in communities]\n",
    "sizes"
   ]
  },
  {
   "cell_type": "code",
   "execution_count": 10,
   "id": "d370248e",
   "metadata": {},
   "outputs": [
    {
     "name": "stdout",
     "output_type": "stream",
     "text": [
      "top_hubs:  ['lattegirltoo', 'andreapuddu', 'sugarjojo', 'letsdance_08', 'libertygrrrl']\n",
      "top_authorities:  ['letsdance_08', 'jhillstephens', 'nursemom90', 'shannonseek', 'bloggerjoe']\n",
      "****************************************************************************************************\n",
      "top_hubs:  ['joetheproducer', 'modelsupplies', 'ncfcog', 'iggypintado', 'vicarsyf']\n",
      "top_authorities:  ['ncfcog', 'vicarsyf', 'debrawruble', 'rmolden', 'iggypintado']\n",
      "****************************************************************************************************\n",
      "top_hubs:  ['emceet', 'raks1991', 'kinaton', 'audnumber', 'kcl2']\n",
      "top_authorities:  ['kathykeefe', 'flowersophy', 'angellr', 'lizwertz', 'davorado']\n",
      "****************************************************************************************************\n",
      "top_hubs:  ['centerpet', 'grahamjoy', 'bacieabbracci', 'star_jayl', 'erenwall']\n",
      "top_authorities:  ['melisangel', 'lauralassiter', 'wecomparebooks', 'bigblendmag', 'star_jayl']\n",
      "****************************************************************************************************\n",
      "top_hubs:  ['plumbusby', 'judismile', 'trachena', 'pudditatso', 'xiane']\n",
      "top_authorities:  ['medic_ray', 'dpbkmb', 'dcb23', 'elagrew', 'hugh_white']\n",
      "****************************************************************************************************\n",
      "top_hubs:  ['amandarobins', 'dewdropper', 'tamaraschilling', 'stephengonzalez', 'jgillardi']\n",
      "top_authorities:  ['dewdropper', 'nanachtoronto', 'amandarobins', 'fridayluv', 'rleseberg']\n",
      "****************************************************************************************************\n",
      "top_hubs:  ['dpillie', 'ixplora', 'secularstupid', 'rmaynard', 'babybigmouth']\n",
      "top_authorities:  ['starmonique', 'elocio', 'im2byteme', 'marleed', 'auctioneerist']\n",
      "****************************************************************************************************\n",
      "top_hubs:  ['preciouslili', 'teddy_salad', 'bobgarrett', 'jgphl', 'dog_lovers']\n",
      "top_authorities:  ['rocketman528', 'blankstudent', 'swingtastic', 'bobgarrett', 'seventhlayer']\n",
      "****************************************************************************************************\n",
      "top_hubs:  ['windyhill', 'debramorrison', 'focusorganic', 'mgonyeo', 'rthastar']\n",
      "top_authorities:  ['choosespun', 'rthastar', 'elephantjournal', 'windyhill', 'grist']\n",
      "****************************************************************************************************\n",
      "top_hubs:  ['wbilliam66', 'metalmelodique', 'msgoth84', 'crushtor', 'eatmycereal']\n",
      "top_authorities:  ['crushtor', 'msgoth84', 'metalasfuck', 'followthreaper', 'metalmelodique']\n",
      "****************************************************************************************************\n"
     ]
    }
   ],
   "source": [
    "for community in communities:\n",
    "    graph = G.subgraph(community)\n",
    "    hubs, authorities = nx.hits(graph)\n",
    "    top_hubs = sorted(hubs, key=hubs.get, reverse=True)[:5]\n",
    "    top_authorities = sorted(authorities, key=authorities.get, reverse=True)[:5]\n",
    "    print(\"top_hubs: \",top_hubs)\n",
    "    print(\"top_authorities: \",top_authorities)\n",
    "    print(\"*\"*100)"
   ]
  },
  {
   "cell_type": "code",
   "execution_count": 25,
   "id": "3435fab0",
   "metadata": {},
   "outputs": [],
   "source": [
    "nx.write_gml(largest_weakly_graph, \"largest_weakly_graph.gml\")"
   ]
  },
  {
   "cell_type": "code",
   "execution_count": 32,
   "id": "569238d5",
   "metadata": {},
   "outputs": [],
   "source": [
    "nx.write_gml(largest_strongly_graph, \"largest_strongly_graph.gml\")"
   ]
  },
  {
   "cell_type": "code",
   "execution_count": 2,
   "id": "29d66be4",
   "metadata": {},
   "outputs": [],
   "source": [
    "# 3，6"
   ]
  },
  {
   "cell_type": "code",
   "execution_count": 3,
   "id": "1b406822",
   "metadata": {},
   "outputs": [],
   "source": [
    "weights = pd.read_csv(\"q31.csv\", header=None, usecols=[2], names = [\"weight\"])"
   ]
  },
  {
   "cell_type": "code",
   "execution_count": 12,
   "id": "f36f1c70",
   "metadata": {},
   "outputs": [
    {
     "data": {
      "text/plain": [
       "Text(0, 0.5, 'Log Frequency')"
      ]
     },
     "execution_count": 12,
     "metadata": {},
     "output_type": "execute_result"
    },
    {
     "data": {
      "image/png": "[encoded data removed]",
      "text/plain": [
       "<Figure size 640x480 with 1 Axes>"
      ]
     },
     "metadata": {},
     "output_type": "display_data"
    }
   ],
   "source": [
    "from collections import Counter, OrderedDict\n",
    "\n",
    "weight = Counter(list(weights[\"weight\"]))\n",
    "sorted_weight = OrderedDict(sorted(weight.items(), key=lambda x: x[0]))\n",
    "weight = list(sorted_weight.keys())\n",
    "frequencies = list(sorted_weight.values())\n",
    "\n",
    "plt.plot(weight, frequencies)\n",
    "plt.yscale('log') \n",
    "plt.title(\"Weight Distribution\")\n",
    "plt.xlabel(\"Weight\")\n",
    "plt.ylabel(\"Log Frequency\")"
   ]
  },
  {
   "cell_type": "code",
   "execution_count": 28,
   "id": "2a58fa42",
   "metadata": {},
   "outputs": [
    {
     "data": {
      "text/plain": [
       "63.476695119451605"
      ]
     },
     "execution_count": 28,
     "metadata": {},
     "output_type": "execute_result"
    }
   ],
   "source": [
    "from scipy.stats import kurtosis, skew\n",
    "\n",
    "skew(weights[\"weight\"])"
   ]
  },
  {
   "cell_type": "code",
   "execution_count": 29,
   "id": "7d942c6a",
   "metadata": {},
   "outputs": [
    {
     "data": {
      "text/plain": [
       "10210.742877303821"
      ]
     },
     "execution_count": 29,
     "metadata": {},
     "output_type": "execute_result"
    }
   ],
   "source": [
    "kurtosis(weights[\"weight\"])"
   ]
  },
  {
   "cell_type": "code",
   "execution_count": null,
   "id": "612105fb",
   "metadata": {},
   "outputs": [],
   "source": []
  }
 ],
 "metadata": {
  "kernelspec": {
   "display_name": "snacs",
   "language": "python",
   "name": "sncas"
  },
  "language_info": {
   "codemirror_mode": {
    "name": "ipython",
    "version": 3
   },
   "file_extension": ".py",
   "mimetype": "text/x-python",
   "name": "python",
   "nbconvert_exporter": "python",
   "pygments_lexer": "ipython3",
   "version": "3.9.18"
  }
 },
 "nbformat": 4,
 "nbformat_minor": 5
}
